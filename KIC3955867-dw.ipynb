{
 "cells": [
  {
   "cell_type": "code",
   "execution_count": 1,
   "metadata": {
    "collapsed": false
   },
   "outputs": [
    {
     "name": "stderr",
     "output_type": "stream",
     "text": [
      "/Users/diana/anaconda/lib/python2.7/site-packages/matplotlib/font_manager.py:273: UserWarning: Matplotlib is building the font cache using fc-list. This may take a moment.\n",
      "  warnings.warn('Matplotlib is building the font cache using fc-list. This may take a moment.')\n"
     ]
    },
    {
     "name": "stdout",
     "output_type": "stream",
     "text": [
      "Populating the interactive namespace from numpy and matplotlib\n"
     ]
    }
   ],
   "source": [
    "import numpy as np\n",
    "import matplotlib.pyplot as plt\n",
    "#%pylab qt5\n",
    "%pylab inline"
   ]
  },
  {
   "cell_type": "code",
   "execution_count": 3,
   "metadata": {
    "collapsed": false
   },
   "outputs": [],
   "source": [
    "# Read in RV data, remember \"primary\" and \"secondary\" definitions are switched\n",
    "t, srv, serr, prv, perr = np.loadtxt('data/3955867.rv', delimiter=';', unpack=True)\n",
    "\n",
    "#Define variables from Villanova\n",
    "p = 33.6599615\n",
    "t_pe = 54960.825756-54833"
   ]
  },
  {
   "cell_type": "code",
   "execution_count": 4,
   "metadata": {
    "collapsed": false
   },
   "outputs": [],
   "source": [
    "#Phase data\n",
    "phase = ((t-t_pe)%p)/p"
   ]
  },
  {
   "cell_type": "code",
   "execution_count": 5,
   "metadata": {
    "collapsed": false
   },
   "outputs": [
    {
     "data": {
      "image/png": "[encoded data removed]",
      "text/plain": [
       "<matplotlib.figure.Figure at 0x105d63b50>"
      ]
     },
     "metadata": {},
     "output_type": "display_data"
    }
   ],
   "source": [
    "#Plot RVs\n",
    "plt.figure()\n",
    "plt.plot(phase, prv, '*', color='indigo', label='Primary Star')\n",
    "plt.plot(phase, srv, '*', color='aqua', label='Secondary Star')\n",
    "plt.axhline(14.7, color = 'blue')\n",
    "plt.xlabel('Phase')\n",
    "plt.ylabel('Radial Velocity (km/s)')\n",
    "plt.legend()\n",
    "plt.savefig('3955867.png')\n",
    "plt.show()"
   ]
  },
  {
   "cell_type": "code",
   "execution_count": 6,
   "metadata": {
    "collapsed": false
   },
   "outputs": [],
   "source": [
    "#Finding indivudual masses\n",
    "pi = np.pi\n",
    "e = 0\n",
    "\n",
    "def find_Masses(k1, k2, p, e=0):\n",
    "    alpha = (2*pi*6.67e-11)/((p*3600*24)*(1-e**2)**1.5)\n",
    "    x = k2/k1\n",
    "    y = k1/k2\n",
    "    m1 = (y/(1+x)**2) + (1/((1+y)**2))\n",
    "    m1 = m1 * alpha\n",
    "    m1 = (k1**3 + k2**3)/m1\n",
    "    m2 = y * m1\n",
    "    return m1, m2\n"
   ]
  },
  {
   "cell_type": "code",
   "execution_count": 11,
   "metadata": {
    "collapsed": false
   },
   "outputs": [
    {
     "name": "stdout",
     "output_type": "stream",
     "text": [
      "Isodata.cat already exists; loaded.\n",
      "LC data for KIC 3955867 loaded.\n",
      "Excluding  []\n",
      "Clip tolerance = 1.0\n"
     ]
    }
   ],
   "source": [
    "run apogee_lcs.py 3955867"
   ]
  },
  {
   "cell_type": "code",
   "execution_count": 65,
   "metadata": {
    "collapsed": false
   },
   "outputs": [
    {
     "name": "stdout",
     "output_type": "stream",
     "text": [
      "Populating the interactive namespace from numpy and matplotlib\n"
     ]
    },
    {
     "data": {
      "text/plain": [
       "<matplotlib.lines.Line2D at 0x1175db8d0>"
      ]
     },
     "execution_count": 65,
     "metadata": {},
     "output_type": "execute_result"
    }
   ],
   "source": [
    "%pylab qt\n",
    "# Plot the light curve and overplot tpe to make sure Villanova value is correct. \n",
    "plt.subplot(211)\n",
    "plt.plot(keblat.jd, keblat.flux, 'k-x')\n",
    "plt.axvline(tpe)\n",
    "plt.subplot(212)\n",
    "keblat.updatephase(tpe, period)\n",
    "plt.plot(keblat.phase[keblat.clip], keblat.flux[keblat.clip], 'k.')\n",
    "plt.axvline(0)"
   ]
  },
  {
   "cell_type": "code",
   "execution_count": 66,
   "metadata": {
    "collapsed": false
   },
   "outputs": [],
   "source": [
    "# Update the phase function\n",
    "keblat.updatephase(tpe, period)\n",
    "# Make initial guesses to lc parameters\n",
    "lcpars= [M1+M2, 9.2, 6.5, period, tpe, esinw, ecosw, .01, 22, q1, q2, q3, q4]\n",
    "model_fluxes, model_polynomials = keblat.lcfit(lcpars, keblat.jd[keblat.clip], \n",
    "                                               keblat.quarter[keblat.clip], keblat.flux[keblat.clip], \n",
    "                                               keblat.dflux[keblat.clip], keblat.crowd[keblat.clip], polyorder=2)\n",
    "plt.plot(keblat.phase[keblat.clip], keblat.flux[keblat.clip]/model_polynomials, \"k.\")\n",
    "plt.plot(keblat.phase[keblat.clip], model_fluxes, \".\")\n",
    "plt.show()\n",
    "#lcmod, lcpol = keblat.lcfit(lcpars_array, keblat.jd, keblat.quarter, keblat.flux, keblat.dflux, keblat.crowd, polyorder=0)"
   ]
  },
  {
   "cell_type": "code",
   "execution_count": 32,
   "metadata": {
    "collapsed": false
   },
   "outputs": [],
   "source": [
    "keblat.parbounds['b'][1] = 0.1\n",
    "keblat.parbounds['ecosw'] = [-.01, .01]\n",
    "keblat.parbounds['period'] = [period*.99, period*1.01]"
   ]
  },
  {
   "cell_type": "code",
   "execution_count": 45,
   "metadata": {
    "collapsed": false
   },
   "outputs": [
    {
     "name": "stdout",
     "output_type": "stream",
     "text": [
      "==========================================================================\n",
      "==================== Starting LIGHTCURVE ONLY fit... =====================\n",
      "==========================================================================\n",
      "[[Fit Statistics]]\n",
      "    # function evals   = 61\n",
      "    # data points      = 21355\n",
      "    # variables        = 7\n",
      "    chi-square         = 19924342.140\n",
      "    reduced chi-square = 933.312\n",
      "    Akaike info crit   = 146048.279\n",
      "    Bayesian info crit = 146104.063\n",
      "[[Variables]]\n",
      "    q1:       0.01 (fixed)\n",
      "    q2:       0.01 (fixed)\n",
      "    tpe:      127.832693 +/- 0.000762 (0.00%) (init= 127.8258)\n",
      "    b:        0.07814271 +/- 21.25167 (27195.98%) (init= 0.01)\n",
      "    ecosw:    0.00477703 +/- 0.000129 (2.71%) (init= 0.004869469)\n",
      "    q4:       0.01 (fixed)\n",
      "    rsum:     9.05691596 +/- 0.095956 (1.06%) (init= 9.2)\n",
      "    period:   33.65996 (fixed)\n",
      "    q3:       0.01 (fixed)\n",
      "    msum:     1.857723 (fixed)\n",
      "    frat:     26.4538698 +/- 0.069413 (0.26%) (init= 22)\n",
      "    rrat:     8.93278967 +/- 0.034628 (0.39%) (init= 6.5)\n",
      "    esinw:   -0.00088801 +/- 0.001951 (219.75%) (init= 0.06442577)\n",
      "[[Correlations]] (unreported correlations are <  0.100)\n",
      "    C(b, rsum)                   =  0.987 \n",
      "    C(rsum, esinw)               =  0.410 \n",
      "    C(b, esinw)                  =  0.293 \n",
      "    C(tpe, ecosw)                = -0.276 \n",
      "    C(rrat, esinw)               =  0.223 \n",
      "    C(b, frat)                   = -0.149 \n",
      "    C(rsum, frat)                = -0.136 \n",
      "    C(frat, esinw)               = -0.102 \n",
      "polyorder = 1:  782.594836183 770.379610146\n",
      "[[Fit Statistics]]\n",
      "    # function evals   = 91\n",
      "    # data points      = 21355\n",
      "    # variables        = 13\n",
      "    chi-square         = 16441441.640\n",
      "    reduced chi-square = 770.380\n",
      "    Akaike info crit   = 141957.191\n",
      "    Bayesian info crit = 142060.788\n",
      "[[Variables]]\n",
      "    q1:       0.37627648 +/- 1.775591 (471.88%) (init= 0.01)\n",
      "    q2:       0.72884467 +/- 5.162628 (708.33%) (init= 0.01)\n",
      "    tpe:      127.897626 +/- 0.001195 (0.00%) (init= 127.8327)\n",
      "    b:        0.09409713 +/- 164.9949 (175345.37%) (init= 0.07814272)\n",
      "    ecosw:    0.00520359 +/- 0.000127 (2.45%) (init= 0.004777036)\n",
      "    q4:       0.00440306 +/- 0.528101 (11993.96%) (init= 0.01)\n",
      "    rsum:     10.8608616 +/- 449.4027 (4137.82%) (init= 9.056916)\n",
      "    period:   33.6567975 +/- 4.80e-05 (0.00%) (init= 33.65996)\n",
      "    q3:       0.15832947 +/- 0.094474 (59.67%) (init= 0.01)\n",
      "    msum:     4.26784351 +/- 532.8880 (12486.12%) (init= 1.857723)\n",
      "    frat:     26.3195948 +/- 0.061858 (0.24%) (init= 26.45387)\n",
      "    rrat:     9.32440066 +/- 0.164349 (1.76%) (init= 8.93279)\n",
      "    esinw:   -0.00195213 +/- 0.004594 (235.35%) (init=-0.0008880085)\n",
      "[[Correlations]] (unreported correlations are <  0.100)\n",
      "    C(rsum, msum)                =  1.000 \n",
      "    C(q4, q3)                    = -0.977 \n",
      "    C(b, rrat)                   = -0.905 \n",
      "    C(q3, esinw)                 =  0.850 \n",
      "    C(q4, esinw)                 = -0.830 \n",
      "    C(tpe, period)               = -0.820 \n",
      "    C(q1, q2)                    = -0.811 \n",
      "    C(rrat, esinw)               =  0.780 \n",
      "    C(q1, rrat)                  = -0.735 \n",
      "    C(q1, b)                     =  0.732 \n",
      "    C(q4, rrat)                  = -0.689 \n",
      "    C(q3, rrat)                  =  0.647 \n",
      "    C(b, esinw)                  = -0.546 \n",
      "    C(q1, esinw)                 = -0.525 \n",
      "    C(b, msum)                   = -0.520 \n",
      "    C(b, rsum)                   = -0.519 \n",
      "    C(b, q4)                     =  0.479 \n",
      "    C(q1, q4)                    =  0.471 \n",
      "    C(q2, rsum)                  = -0.434 \n",
      "    C(q2, msum)                  = -0.433 \n",
      "    C(q1, q3)                    = -0.417 \n",
      "    C(msum, rrat)                =  0.394 \n",
      "    C(rsum, rrat)                =  0.393 \n",
      "    C(b, q3)                     = -0.375 \n",
      "    C(q2, rrat)                  =  0.282 \n",
      "    C(q2, esinw)                 =  0.255 \n",
      "    C(q2, q4)                    = -0.237 \n",
      "    C(q2, q3)                    =  0.235 \n",
      "    C(q2, b)                     = -0.232 \n",
      "    C(tpe, ecosw)                = -0.157 \n",
      "    C(msum, esinw)               =  0.143 \n",
      "    C(rsum, esinw)               =  0.142 \n",
      "    C(q4, msum)                  = -0.110 \n",
      "    C(q4, rsum)                  = -0.109 \n",
      "polyorder = 2:  237.149098344 215.499855428\n",
      "[[Fit Statistics]]\n",
      "    # function evals   = 31\n",
      "    # data points      = 21355\n",
      "    # variables        = 13\n",
      "    chi-square         = 4599197.915\n",
      "    reduced chi-square = 215.500\n",
      "    Akaike info crit   = 114752.562\n",
      "    Bayesian info crit = 114856.159\n",
      "[[Variables]]\n",
      "    q1:       0.68508423 +/- 0.585522 (85.47%) (init= 0.3762765)\n",
      "    q2:       0.99898926 +/- 4.987869 (499.29%) (init= 0.7288447)\n",
      "    tpe:      127.901504 +/- 0.000623 (0.00%) (init= 127.8976)\n",
      "    b:        0.07342424 +/- 100.6775 (137117.52%) (init= 0.09409714)\n",
      "    ecosw:    0.00510291 +/- 5.95e-05 (1.17%) (init= 0.005203595)\n",
      "    q4:       0.95109283 +/- 0.104247 (10.96%) (init= 0.004403062)\n",
      "    rsum:     10.8444570 +/- 230.1998 (2122.74%) (init= 10.86086)\n",
      "    period:   33.6566776 +/- 2.52e-05 (0.00%) (init= 33.6568)\n",
      "    q3:       0.11364016 +/- 0.072595 (63.88%) (init= 0.1583295)\n",
      "    msum:     3.92282212 +/- 261.6519 (6669.99%) (init= 4.267844)\n",
      "    frat:     26.3444152 +/- 0.033118 (0.13%) (init= 26.31959)\n",
      "    rrat:     8.77639734 +/- 0.054009 (0.62%) (init= 9.324401)\n",
      "    esinw:    0.00533752 +/- 0.002196 (41.16%) (init=-0.001952138)\n",
      "[[Correlations]] (unreported correlations are <  0.100)\n",
      "    C(rsum, msum)                =  1.000 \n",
      "    C(q1, q2)                    = -0.954 \n",
      "    C(q4, q3)                    = -0.899 \n",
      "    C(q3, esinw)                 =  0.893 \n",
      "    C(q3, rrat)                  =  0.847 \n",
      "    C(tpe, period)               = -0.806 \n",
      "    C(rrat, esinw)               =  0.796 \n",
      "    C(b, rrat)                   = -0.780 \n",
      "    C(q4, esinw)                 = -0.742 \n",
      "    C(q1, b)                     =  0.674 \n",
      "    C(q1, rrat)                  = -0.654 \n",
      "    C(q4, rrat)                  = -0.609 \n",
      "    C(b, q3)                     = -0.517 \n",
      "    C(q1, q3)                    = -0.507 \n",
      "    C(b, msum)                   = -0.501 \n",
      "    C(b, rsum)                   = -0.501 \n",
      "    C(q2, rrat)                  =  0.479 \n",
      "    C(q2, b)                     = -0.451 \n",
      "    C(q1, esinw)                 = -0.437 \n",
      "    C(b, esinw)                  = -0.407 \n",
      "    C(q2, q3)                    =  0.392 \n",
      "    C(q1, q4)                    =  0.356 \n",
      "    C(q2, esinw)                 =  0.345 \n",
      "    C(b, q4)                     =  0.340 \n",
      "    C(q2, q4)                    = -0.280 \n",
      "    C(q2, rsum)                  = -0.277 \n",
      "    C(q2, msum)                  = -0.277 \n",
      "    C(msum, rrat)                =  0.254 \n",
      "    C(rsum, rrat)                =  0.254 \n",
      "    C(tpe, ecosw)                = -0.169 \n",
      "    C(q1, rsum)                  =  0.120 \n",
      "    C(q1, msum)                  =  0.119 \n"
     ]
    }
   ],
   "source": [
    "# optimize light curve using best initial parameters via trial and error\n",
    "opt_lcpars0 = opt_lc(msum=M1+M2, rsum=9.2, rrat=6.5, period=period, tpe=tpe, esinw=esinw,\n",
    "                             ecosw=ecosw, b=0.01, frat=22, q1=q1, q2=q2, q3=q3, q4=q4)\n"
   ]
  },
  {
   "cell_type": "code",
   "execution_count": 46,
   "metadata": {
    "collapsed": false,
    "scrolled": true
   },
   "outputs": [],
   "source": [
    "#Update phase function with optimized lc parameters and overplot fit\n",
    "keblat.updatephase(opt_lcpars0[4], opt_lcpars0[3])\n",
    "modelfluxes, modelpolynomials = keblat.lcfit(opt_lcpars0, keblat.jd[keblat.clip], keblat.quarter[keblat.clip], keblat.flux[keblat.clip], keblat.dflux[keblat.clip], keblat.crowd[keblat.clip], polyorder=2)\n",
    "#plt.plot(keblat.jd, keblat.flux, \"k.\")\n",
    "#plt.plot(keblat.jd[keblat.clip], modelfluxes*modelpolynomials, \".\")\n",
    "#plt.show()"
   ]
  },
  {
   "cell_type": "code",
   "execution_count": 48,
   "metadata": {
    "collapsed": false
   },
   "outputs": [
    {
     "data": {
      "image/png": "[encoded data removed]",
      "text/plain": [
       "<matplotlib.figure.Figure at 0x11eb75e10>"
      ]
     },
     "metadata": {},
     "output_type": "display_data"
    }
   ],
   "source": [
    "%matplotlib inline\n",
    "plt.plot(keblat.phase[keblat.clip], keblat.flux[keblat.clip]/modelpolynomials, \"k.\")\n",
    "plt.plot(keblat.phase[keblat.clip], modelfluxes, \".\")\n",
    "plt.show()"
   ]
  },
  {
   "cell_type": "code",
   "execution_count": 67,
   "metadata": {
    "collapsed": true
   },
   "outputs": [],
   "source": [
    "#save opt lc parameters\n",
    "np.savetxt('data/{0}.opt_lc'.format(kic), opt_lcpars0)"
   ]
  },
  {
   "cell_type": "code",
   "execution_count": 53,
   "metadata": {
    "collapsed": false
   },
   "outputs": [],
   "source": [
    "# Load time and RV values to keblat, keblat.rvprep returns initial guesses to m1, m2, k0\n",
    "m1, m2, k0 = keblat.rvprep(t, prv*1e3, srv*1e3, perr*1e3, serr*1e3)"
   ]
  },
  {
   "cell_type": "code",
   "execution_count": 50,
   "metadata": {
    "collapsed": false
   },
   "outputs": [
    {
     "data": {
      "image/png": "[encoded data removed]",
      "text/plain": [
       "<matplotlib.figure.Figure at 0x11eb61e10>"
      ]
     },
     "metadata": {},
     "output_type": "display_data"
    }
   ],
   "source": [
    "#Have to phase the data again becuase parameters have changed from optimization\n",
    "phase2 = ((keblat.rv_t-keblat.pars['tpe'])%keblat.pars['period'])/keblat.pars['period']\n",
    "\n",
    "plt.title('Radial Velocity data for KIC 3955867')\n",
    "plt.plot(phase2, keblat.rv1_obs, '.', color='limegreen')\n",
    "plt.plot(phase2, keblat.rv2_obs, '.', color='fuchsia')\n",
    "plt.xlabel('Phase')\n",
    "plt.ylabel('Velocity (km/s)');"
   ]
  },
  {
   "cell_type": "code",
   "execution_count": 51,
   "metadata": {
    "collapsed": false
   },
   "outputs": [
    {
     "data": {
      "text/plain": [
       "[<matplotlib.lines.Line2D at 0x12099b190>]"
      ]
     },
     "execution_count": 51,
     "metadata": {},
     "output_type": "execute_result"
    },
    {
     "data": {
      "image/png": "[encoded data removed]",
      "text/plain": [
       "<matplotlib.figure.Figure at 0x11eb52350>"
      ]
     },
     "metadata": {},
     "output_type": "display_data"
    }
   ],
   "source": [
    "# Create tmod (more data points) to see model clearly\n",
    "tmod = np.linspace(keblat.rv_t[0], keblat.rv_t[-1], 1000)\n",
    "phasemod = ((tmod - keblat.pars['tpe'])%keblat.pars['period'])/keblat.pars['period']\n",
    "\n",
    "# Make initial guess to rv parameters\n",
    "rv1_mod, rv2_mod = keblat.rvfit([0.91+1.1, 1.1/0.91, keblat.pars['period'], keblat.pars['tpe'], \n",
    "                                 .0001, keblat.pars['ecosw'],\n",
    "                                 keblat.pars['inc'], 16*1e3, 0.0], tmod)\n",
    "\n",
    "plt.title('RV model')\n",
    "plt.plot(phase2, keblat.rv1_obs, 'k.', label='Observed Data')\n",
    "plt.plot(phase2, keblat.rv2_obs, 'k.')\n",
    "plt.plot(phasemod, rv1_mod, '.', color='turquoise', label='Primary Star Model')\n",
    "plt.plot(phasemod, rv2_mod, '.', color='violet', label='Secondary Star Model')\n",
    "#plt.legend();"
   ]
  },
  {
   "cell_type": "code",
   "execution_count": 52,
   "metadata": {
    "collapsed": false
   },
   "outputs": [
    {
     "name": "stdout",
     "output_type": "stream",
     "text": [
      "0.00510291678518\n",
      "[  3.92282212e+00   1.08444570e+01   8.77639734e+00   3.36566777e+01\n",
      "   1.27901504e+02   5.33752293e-03   5.10291679e-03   7.34242491e-02\n",
      "   2.63444152e+01   6.85084237e-01   9.98989266e-01   1.13640161e-01\n",
      "   9.51092838e-01]\n"
     ]
    }
   ],
   "source": [
    "print keblat.pars['ecosw']\n",
    "print opt_lcpars0"
   ]
  },
  {
   "cell_type": "code",
   "execution_count": 54,
   "metadata": {
    "collapsed": false
   },
   "outputs": [
    {
     "name": "stdout",
     "output_type": "stream",
     "text": [
      "rverr 0.0\n",
      "tpe 127.825756\n",
      "ecosw 0.00510291678518\n",
      "mrat 1.21039374254\n",
      "period 33.6599615\n",
      "msum 2.01844131121\n",
      "k0 16000.0\n",
      "esinw 0.0053375229276\n",
      "inc 1.56961950444\n",
      "==========================================================================\n",
      "========================= Starting RV ONLY fit... ========================\n",
      "==========================================================================\n",
      "Parameters([('rverr', <Parameter 'rverr', value=0.0 (fixed), bounds=[0.0:10000.0]>), ('tpe', <Parameter 'tpe', value=127.82575599999836 (fixed), bounds=[0.0:100000000.0]>), ('ecosw', <Parameter 'ecosw', 0.0051029167851831241, bounds=[-0.01:0.01]>), ('mrat', <Parameter 'mrat', 1.2103937425427549, bounds=[1.1846153846153848:1.232967032967033]>), ('period', <Parameter 'period', value=33.659961500000001 (fixed), bounds=[33.323361885000004:33.996561114999999]>), ('msum', <Parameter 'msum', 2.0184413112055131, bounds=[1.9698000000000002:2.0502000000000002]>), ('k0', <Parameter 'k0', 16000.0, bounds=[-100000000.0:100000000.0]>), ('esinw', <Parameter 'esinw', 0.0053375229275969271, bounds=[-0.1:0.1]>), ('inc', <Parameter 'inc', 1.5696195044402392, bounds=[0.0:1.5707963267948966]>)])\n",
      "32.0343682405 40.1648057792\n",
      "[[Fit Statistics]]\n",
      "    # function evals   = 43\n",
      "    # data points      = 27\n",
      "    # variables        = 6\n",
      "    chi-square         = 843.461\n",
      "    reduced chi-square = 40.165\n",
      "    Akaike info crit   = 104.925\n",
      "    Bayesian info crit = 112.700\n",
      "[[Variables]]\n",
      "    rverr:    0 (fixed)\n",
      "    tpe:      127.8258 (fixed)\n",
      "    ecosw:   -0.00760597 +/- 0.009928 (130.53%) (init= 0.005102917)\n",
      "    mrat:     1.18837458 +/- 0.043469 (3.66%) (init= 1.210394)\n",
      "    period:   33.65996 (fixed)\n",
      "    msum:     1.97133252 +/- nan      (nan%) (init= 2.018441)\n",
      "    k0:       14094.9698 +/- 489.9850 (3.48%) (init= 16000)\n",
      "    esinw:   -0.02199802 +/- 0.016184 (73.57%) (init= 0.005337523)\n",
      "    inc:      1.48606088 +/- nan      (nan%) (init= 1.56962)\n",
      "[[Correlations]] (unreported correlations are <  0.100)\n",
      "    C(ecosw, esinw)              =  0.252 \n",
      "    C(k0, esinw)                 = -0.228 \n",
      "    C(ecosw, k0)                 = -0.129 \n",
      "    C(mrat, k0)                  =  0.108 \n",
      "Tolerance seems to be too small.. Could not estimate error-bars\n",
      "Iteration:  0 31.1731648444 40.0797833713\n",
      "The following results are saved:\n",
      "[[Fit Statistics]]\n",
      "    # function evals   = 96\n",
      "    # data points      = 27\n",
      "    # variables        = 6\n",
      "    chi-square         = 841.675\n",
      "    reduced chi-square = 40.080\n",
      "    Akaike info crit   = 104.868\n",
      "    Bayesian info crit = 112.643\n",
      "[[Variables]]\n",
      "    rverr:    0 (fixed)\n",
      "    tpe:      127.8258 (fixed)\n",
      "    ecosw:   -0.00999999 +/- 0.057178 (571.78%) (init=-0.007605971)\n",
      "    mrat:     1.18606123 +/- 0.047905 (4.04%) (init= 1.188375)\n",
      "    period:   33.65996 (fixed)\n",
      "    msum:     1.98000824 +/- 6.62e+04 (3341345.52%) (init= 1.971333)\n",
      "    k0:       14084.9566 +/- 492.0224 (3.49%) (init= 14094.97)\n",
      "    esinw:   -0.02144995 +/- 0.016233 (75.68%) (init=-0.02199802)\n",
      "    inc:      1.48274598 +/- 1.26e+05 (8498382.41%) (init= 1.486061)\n",
      "[[Correlations]] (unreported correlations are <  0.100)\n",
      "    C(msum, inc)                 = -1.000 \n",
      "    C(mrat, msum)                = -0.429 \n",
      "    C(mrat, inc)                 =  0.429 \n",
      "    C(ecosw, msum)               = -0.271 \n",
      "    C(ecosw, inc)                =  0.271 \n",
      "    C(k0, esinw)                 = -0.226 \n",
      "    C(msum, esinw)               =  0.218 \n",
      "    C(esinw, inc)                = -0.218 \n",
      "    C(ecosw, k0)                 =  0.109 \n",
      "    C(mrat, k0)                  =  0.106 \n",
      "Iteration:  1 31.1732245526 40.0797833713\n",
      "Iteration:  2 31.1732245526 40.0797833713\n",
      "Iteration:  3 31.1732245526 40.0797833713\n",
      "Iteration:  4 31.1732245526 40.0797833713\n",
      "Iteration:  5 31.1732245526 40.0797833713\n",
      "Iteration:  6 31.1732245526 40.0797833713\n",
      "Iteration:  7 31.1732245526 40.0797833713\n",
      "Iteration:  8 31.1732245526 40.0797833713\n",
      "Iteration:  9 31.1732245526 40.0797833713\n"
     ]
    }
   ],
   "source": [
    "# place tighter bounds on msum and mrat\n",
    "keblat.parbounds['msum']= [0.98*(1.1+0.91), 1.02*(1.1+0.91)]\n",
    "keblat.parbounds['mrat']= [0.98*(1.1/0.91), 1.02*(1.1/0.91)]\n",
    "keblat.parbounds['esinw']= [-0.1,0.1]\n",
    "\n",
    "#optimize rv pars, using initial guesses from rvprep and esinw, ecosw, inc from lc opt\n",
    "opt_rvpars = opt_rv(msum=m1+m2, mrat=m2/m1, period=period, tpe=tpe, \n",
    "       esinw=opt_lcpars0[5], ecosw=opt_lcpars0[6], inc=keblat.pars['inc'], k0=16*1e3, rverr=0.0)\n"
   ]
  },
  {
   "cell_type": "code",
   "execution_count": 55,
   "metadata": {
    "collapsed": false
   },
   "outputs": [
    {
     "data": {
      "image/png": "[encoded data removed]",
      "text/plain": [
       "<matplotlib.figure.Figure at 0x12047a750>"
      ]
     },
     "metadata": {},
     "output_type": "display_data"
    }
   ],
   "source": [
    "#overplot best fit rv model\n",
    "opt_rv1_mod, opt_rv2_mod = keblat.rvfit(opt_rvpars, tmod)\n",
    "\n",
    "plt.figure(figsize=(10,6))\n",
    "plt.title('Optimized RV Model')\n",
    "plt.plot(phase2, keblat.rv1_obs, 'k.', label='Observed Data')\n",
    "plt.plot(phase2, keblat.rv2_obs, 'k.')\n",
    "plt.plot(phasemod, opt_rv1_mod, '.', color='turquoise', label='Optimized Primary Star Model')\n",
    "plt.plot(phasemod, opt_rv2_mod, '.', color='violet', label='Optimized Secondary Star Model')\n",
    "#plt.legend()\n",
    "plt.xlabel('Phase')\n",
    "plt.ylabel('Radial Velocity (km/s)');"
   ]
  },
  {
   "cell_type": "code",
   "execution_count": 68,
   "metadata": {
    "collapsed": true
   },
   "outputs": [],
   "source": [
    "# save opt rv parameters\n",
    "np.savetxt('data/{0}.opt_rv'.format(kic), opt_rvpars)"
   ]
  },
  {
   "cell_type": "code",
   "execution_count": 56,
   "metadata": {
    "collapsed": false
   },
   "outputs": [
    {
     "name": "stdout",
     "output_type": "stream",
     "text": [
      "==========================================================================\n",
      "==================== Starting LIGHTCURVE ONLY fit... =====================\n",
      "==========================================================================\n",
      "[[Fit Statistics]]\n",
      "    # function evals   = 61\n",
      "    # data points      = 21348\n",
      "    # variables        = 7\n",
      "    chi-square         = 21128916.081\n",
      "    reduced chi-square = 990.062\n",
      "    Akaike info crit   = 147260.544\n",
      "    Bayesian info crit = 147316.325\n",
      "[[Variables]]\n",
      "    q1:       0.01 (fixed)\n",
      "    q2:       0.01 (fixed)\n",
      "    tpe:      127.828233 +/- 0.000851 (0.00%) (init= 127.8258)\n",
      "    b:        0.08536761 +/- 9.123075 (10686.81%) (init= 0.07342425)\n",
      "    ecosw:    0.00511931 +/- 0.000126 (2.47%) (init= 0.005102917)\n",
      "    q4:       0.01 (fixed)\n",
      "    rsum:     8.74706593 +/- 0.090511 (1.03%) (init= 10.84446)\n",
      "    period:   33.65996 (fixed)\n",
      "    q3:       0.01 (fixed)\n",
      "    msum:     1.980008 (fixed)\n",
      "    frat:     26.5759030 +/- 0.075265 (0.28%) (init= 26.34442)\n",
      "    rrat:     8.82655023 +/- 0.032298 (0.37%) (init= 8.776397)\n",
      "    esinw:   -0.01298478 +/- 0.001859 (14.32%) (init= 0.005337523)\n",
      "[[Correlations]] (unreported correlations are <  0.100)\n",
      "    C(b, rsum)                   =  0.985 \n",
      "    C(tpe, ecosw)                = -0.316 \n",
      "    C(rrat, esinw)               =  0.213 \n",
      "    C(b, frat)                   = -0.143 \n",
      "    C(rsum, frat)                = -0.128 \n",
      "polyorder = 1:  881.270925231 804.714753226\n",
      "[[Fit Statistics]]\n",
      "    # function evals   = 58\n",
      "    # data points      = 21348\n",
      "    # variables        = 12\n",
      "    chi-square         = 17169393.975\n",
      "    reduced chi-square = 804.715\n",
      "    Akaike info crit   = 142840.532\n",
      "    Bayesian info crit = 142936.156\n",
      "[[Variables]]\n",
      "    q1:       0.29391915 +/- 1.937822 (659.30%) (init= 0.01)\n",
      "    q2:       0.09882578 +/- 3.589661 (3632.31%) (init= 0.01)\n",
      "    tpe:      127.883968 +/- 0.001126 (0.00%) (init= 127.8282)\n",
      "    b:        0.08869819 +/- 848.8186 (956973.93%) (init= 0.08536761)\n",
      "    ecosw:    0.00538813 +/- 0.000159 (2.94%) (init= 0.005119319)\n",
      "    q4:       0.41190514 +/- 0.135009 (32.78%) (init= 0.01)\n",
      "    rsum:     8.74448190 +/- 0.218953 (2.50%) (init= 8.747066)\n",
      "    period:   33.6572549 +/- 4.64e-05 (0.00%) (init= 33.65996)\n",
      "    q3:       0.01211034 +/- 0.516763 (4267.12%) (init= 0.01)\n",
      "    msum:     1.980008 (fixed)\n",
      "    frat:     26.2681130 +/- 0.062924 (0.24%) (init= 26.5759)\n",
      "    rrat:     10.2059475 +/- 0.316041 (3.10%) (init= 8.82655)\n",
      "    esinw:    0.05204797 +/- 0.012867 (24.72%) (init=-0.01298478)\n",
      "[[Correlations]] (unreported correlations are <  0.100)\n",
      "    C(q4, q3)                    = -0.959 \n",
      "    C(q3, esinw)                 =  0.951 \n",
      "    C(q1, q2)                    = -0.921 \n",
      "    C(b, rsum)                   =  0.909 \n",
      "    C(q3, rrat)                  =  0.905 \n",
      "    C(q4, esinw)                 = -0.866 \n",
      "    C(rrat, esinw)               =  0.841 \n",
      "    C(tpe, period)               = -0.813 \n",
      "    C(q4, rrat)                  = -0.806 \n",
      "    C(q1, b)                     =  0.778 \n",
      "    C(q1, rrat)                  = -0.687 \n",
      "    C(b, rrat)                   = -0.650 \n",
      "    C(q1, rsum)                  =  0.611 \n",
      "    C(q2, b)                     = -0.537 \n",
      "    C(q1, q3)                    = -0.475 \n",
      "    C(q2, rrat)                  =  0.457 \n",
      "    C(q2, rsum)                  = -0.431 \n",
      "    C(q1, q4)                    =  0.418 \n",
      "    C(q1, esinw)                 = -0.359 \n",
      "    C(b, q3)                     = -0.334 \n",
      "    C(q2, q3)                    =  0.307 \n",
      "    C(b, q4)                     =  0.289 \n",
      "    C(rsum, rrat)                = -0.285 \n",
      "    C(q2, q4)                    = -0.270 \n",
      "    C(rsum, esinw)               =  0.257 \n",
      "    C(q2, esinw)                 =  0.226 \n",
      "    C(b, esinw)                  = -0.167 \n",
      "    C(tpe, ecosw)                = -0.115 \n",
      "polyorder = 2:  229.496215719 210.375075113\n",
      "[[Fit Statistics]]\n",
      "    # function evals   = 56\n",
      "    # data points      = 21348\n",
      "    # variables        = 12\n",
      "    chi-square         = 4488562.603\n",
      "    reduced chi-square = 210.375\n",
      "    Akaike info crit   = 114200.143\n",
      "    Bayesian info crit = 114295.768\n",
      "[[Variables]]\n",
      "    q1:       0.84239171 +/- 1.384774 (164.39%) (init= 0.2939192)\n",
      "    q2:       0.42533516 +/- 2.358006 (554.39%) (init= 0.09882578)\n",
      "    tpe:      127.906985 +/- 0.000571 (0.00%) (init= 127.884)\n",
      "    b:        0.01767343 +/- 27.06307 (153128.54%) (init= 0.0886982)\n",
      "    ecosw:    0.00522500 +/- 6.74e-05 (1.29%) (init= 0.005388139)\n",
      "    q4:       0.45360416 +/- 0.062254 (13.72%) (init= 0.4119051)\n",
      "    rsum:     8.59575970 +/- 0.206605 (2.40%) (init= 8.744482)\n",
      "    period:   33.6565096 +/- 2.36e-05 (0.00%) (init= 33.65725)\n",
      "    q3:       0.07747009 +/- 0.261110 (337.05%) (init= 0.01211034)\n",
      "    msum:     1.980008 (fixed)\n",
      "    frat:     26.3344996 +/- 0.032156 (0.12%) (init= 26.26811)\n",
      "    rrat:     8.73854474 +/- 0.187886 (2.15%) (init= 10.20595)\n",
      "    esinw:    0.01040842 +/- 0.005779 (55.53%) (init= 0.05204798)\n",
      "[[Correlations]] (unreported correlations are <  0.100)\n",
      "    C(b, rsum)                   =  0.985 \n",
      "    C(q1, q2)                    = -0.961 \n",
      "    C(q3, esinw)                 =  0.956 \n",
      "    C(q4, q3)                    = -0.948 \n",
      "    C(q1, b)                     =  0.906 \n",
      "    C(q3, rrat)                  =  0.886 \n",
      "    C(q4, esinw)                 = -0.883 \n",
      "    C(b, rrat)                   = -0.880 \n",
      "    C(q1, rsum)                  =  0.870 \n",
      "    C(q1, rrat)                  = -0.858 \n",
      "    C(rrat, esinw)               =  0.803 \n",
      "    C(tpe, period)               = -0.796 \n",
      "    C(rsum, rrat)                = -0.787 \n",
      "    C(q2, b)                     = -0.771 \n",
      "    C(q2, rsum)                  = -0.740 \n",
      "    C(q4, rrat)                  = -0.738 \n",
      "    C(q2, rrat)                  =  0.729 \n",
      "    C(q1, q3)                    = -0.633 \n",
      "    C(b, q3)                     = -0.589 \n",
      "    C(q2, q3)                    =  0.537 \n",
      "    C(q1, esinw)                 = -0.511 \n",
      "    C(q1, q4)                    =  0.488 \n",
      "    C(rsum, q3)                  = -0.445 \n",
      "    C(b, esinw)                  = -0.440 \n",
      "    C(q2, esinw)                 =  0.433 \n",
      "    C(b, q4)                     =  0.432 \n",
      "    C(q2, q4)                    = -0.414 \n",
      "    C(q4, rsum)                  =  0.290 \n",
      "    C(rsum, esinw)               = -0.277 \n",
      "    C(tpe, ecosw)                = -0.128 \n"
     ]
    }
   ],
   "source": [
    "# re-optimize the light curve only by fixing msum to be value from opt_rv fit (see msum=opt_rvpars[0], vary_msum=False)\n",
    "lcpars2 = opt_lc(msum=opt_rvpars[0], rsum=opt_lcpars0[1], rrat=opt_lcpars0[2], period=period, tpe=tpe, \n",
    "                 esinw=opt_lcpars0[5], ecosw=opt_lcpars0[6], b=opt_lcpars0[7], frat=opt_lcpars0[8], \n",
    "                 q1=q1, q2=q2, q3=q3, q4=q4, vary_msum=False)"
   ]
  },
  {
   "cell_type": "code",
   "execution_count": 57,
   "metadata": {
    "collapsed": false
   },
   "outputs": [
    {
     "data": {
      "text/plain": [
       "[<matplotlib.lines.Line2D at 0x11eb61c10>]"
      ]
     },
     "execution_count": 57,
     "metadata": {},
     "output_type": "execute_result"
    },
    {
     "data": {
      "image/png": "[encoded data removed]",
      "text/plain": [
       "<matplotlib.figure.Figure at 0x12048c550>"
      ]
     },
     "metadata": {},
     "output_type": "display_data"
    }
   ],
   "source": [
    "#overplot the new light curve model to make sure it's still decent\n",
    "model_fluxes2, model_polynomials2 = keblat.lcfit(lcpars2, keblat.jd[keblat.clip], \n",
    "                                                 keblat.quarter[keblat.clip], keblat.flux[keblat.clip], \n",
    "                                                 keblat.dflux[keblat.clip], keblat.crowd[keblat.clip], polyorder=2)\n",
    "plt.plot(keblat.phase[keblat.clip], keblat.flux[keblat.clip]/model_polynomials2, 'k.')\n",
    "plt.plot(keblat.phase[keblat.clip], model_fluxes2, '.')"
   ]
  },
  {
   "cell_type": "code",
   "execution_count": 58,
   "metadata": {
    "collapsed": false
   },
   "outputs": [
    {
     "name": "stdout",
     "output_type": "stream",
     "text": [
      "==========================================================================\n",
      "================= Starting LC + RV simultaneous fit... ===================\n",
      "==========================================================================\n",
      "243.106937361 238.04467492\n",
      "[[Fit Statistics]]\n",
      "    # function evals   = 39\n",
      "    # data points      = 21375\n",
      "    # variables        = 17\n",
      "    chi-square         = 5084158.167\n",
      "    reduced chi-square = 238.045\n",
      "    Akaike info crit   = 116990.791\n",
      "    Bayesian info crit = 117126.280\n",
      "[[Variables]]\n",
      "    q1:       0.69960712 +/- 0        (0.00%) (init= 0.8423917)\n",
      "    q2:       0.46461519 +/- 0        (0.00%) (init= 0.4253352)\n",
      "    tpe:      127.904206 +/- 0        (0.00%) (init= 127.907)\n",
      "    b:        0.09279094 +/- 0        (0.00%) (init= 0.01767344)\n",
      "    ecosw:    0.00526087 +/- 0        (0.00%) (init= 0.005225005)\n",
      "    q4:       0.33378667 +/- 0        (0.00%) (init= 0.4536042)\n",
      "    rsum:     8.49719953 +/- 0        (0.00%) (init= 8.59576)\n",
      "    mrat:     1.22910780 +/- 0        (0.00%) (init= 1.186061)\n",
      "    period:   33.6566108 +/- 0        (0.00%) (init= 33.65651)\n",
      "    q3:       0.12356798 +/- 0        (0.00%) (init= 0.0774701)\n",
      "    lcerr:    0          +/- 0        (nan%) (init= 0)\n",
      "    msum:     2.00817547 +/- 0        (0.00%) (init= 1.980008)\n",
      "    frat:     26.2081772 +/- 0        (0.00%) (init= 26.3345)\n",
      "    rverr:    0          +/- 0        (nan%) (init= 0)\n",
      "    rrat:     8.64744417 +/- 0        (0.00%) (init= 8.738545)\n",
      "    esinw:    0.00660475 +/- 0        (0.00%) (init= 0.01040843)\n",
      "    k0:       13821.0099 +/- 0        (0.00%) (init= 14084.96)\n",
      "[[Correlations]] (unreported correlations are <  0.100)\n",
      "Tolerance seems to be too small.. Could not estimate error-bars\n",
      "Iteration:  0 292.764996947 238.871178366\n",
      "Iteration:  1 292.764996947 238.871178366\n",
      "Iteration:  2 292.764996947 238.871178366\n",
      "Iteration:  3 292.764996947 238.871178366\n",
      "Iteration:  4 292.764996947 238.871178366\n"
     ]
    }
   ],
   "source": [
    "#do a simultaneous lcrv opt with rvpars from opt_rv and lcpars from result above ^\n",
    "opt_lcrvpars=opt_lcrv(msum=opt_rvpars[0], mrat=opt_rvpars[1], rsum=lcpars2[1], rrat=lcpars2[2], period=lcpars2[3], \n",
    "                      tpe=lcpars2[4], esinw=lcpars2[5],ecosw=lcpars2[6],b=lcpars2[7], frat=lcpars2[8], \n",
    "                      q1=lcpars2[9], q2=lcpars2[10], q3=lcpars2[11], q4=lcpars2[12], lcerr=0, k0=opt_rvpars[-2], rverr=0)"
   ]
  },
  {
   "cell_type": "code",
   "execution_count": 69,
   "metadata": {
    "collapsed": false
   },
   "outputs": [],
   "source": [
    "#overplot best fit parameters to see rv + lc model against data\n",
    "make_lcrv_plots(kic, opt_lcrvpars, '', suffix='', savefig=False, polyorder=2)\n",
    "#save opt lcrv\n",
    "np.savetxt('data/{0}.opt_lcrv'.format(kic), opt_lcrvpars)"
   ]
  },
  {
   "cell_type": "code",
   "execution_count": 60,
   "metadata": {
    "collapsed": false
   },
   "outputs": [
    {
     "data": {
      "text/plain": [
       "OrderedDict([('m1', 0.90088755424727252),\n",
       "             ('m2', 1.1072879207044526),\n",
       "             ('z0', None),\n",
       "             ('age', None),\n",
       "             ('dist', None),\n",
       "             ('ebv', None),\n",
       "             ('h0', None),\n",
       "             ('period', 33.656610829470559),\n",
       "             ('tpe', 127.90420615416132),\n",
       "             ('esinw', 0.0066047521056346453),\n",
       "             ('ecosw', 0.0052608737714274992),\n",
       "             ('b', 0.092790945531639316),\n",
       "             ('q1', 0.69960712517081902),\n",
       "             ('q2', 0.46461519352898617),\n",
       "             ('q3', 0.12356798360634347),\n",
       "             ('q4', 0.3337866771359006),\n",
       "             ('lcerr', 0.0),\n",
       "             ('isoerr', None),\n",
       "             ('k0', 13821.009983778),\n",
       "             ('rverr', 0.0),\n",
       "             ('msum', 2.0081754749517251),\n",
       "             ('mrat', 1.229107800950404),\n",
       "             ('rsum', 8.4971995316594384),\n",
       "             ('rrat', 8.6474441700152287),\n",
       "             ('r1', 0.88077208656663575),\n",
       "             ('r2', 7.6164274450928033),\n",
       "             ('inc', 1.5693201291005436),\n",
       "             ('frat', 26.208177294330714)])"
      ]
     },
     "execution_count": 60,
     "metadata": {},
     "output_type": "execute_result"
    }
   ],
   "source": [
    "keblat.pars"
   ]
  },
  {
   "cell_type": "markdown",
   "metadata": {},
   "source": [
    "You'll notice that our esinw and ecosw values differ slightly from Patrick's published values. *But*, if you look closely at the lc fit, the steepness of ingress/egress is not well matched in the shallower eclipse. The RV residuals look similar (again, remember that his RV is phased different b/c of primary + secondary definitions). So... this kind of gives me confidence that our esinw, ecosw values are actually better? "
   ]
  },
  {
   "cell_type": "code",
   "execution_count": null,
   "metadata": {
    "collapsed": true
   },
   "outputs": [],
   "source": []
  }
 ],
 "metadata": {
  "anaconda-cloud": {},
  "kernelspec": {
   "display_name": "Python 2",
   "language": "python",
   "name": "python2"
  },
  "language_info": {
   "codemirror_mode": {
    "name": "ipython",
    "version": 2
   },
   "file_extension": ".py",
   "mimetype": "text/x-python",
   "name": "python",
   "nbconvert_exporter": "python",
   "pygments_lexer": "ipython2",
   "version": "2.7.11"
  }
 },
 "nbformat": 4,
 "nbformat_minor": 1
}
